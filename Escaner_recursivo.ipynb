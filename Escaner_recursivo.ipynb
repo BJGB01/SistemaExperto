{
 "cells": [
  {
   "cell_type": "markdown",
   "metadata": {},
   "source": [
    "## Analizador Lexico\n",
    "Un analizador lexico transforma una entrada en tokens"
   ]
  },
  {
   "cell_type": "code",
   "execution_count": 296,
   "metadata": {},
   "outputs": [
    {
     "name": "stdout",
     "output_type": "stream",
     "text": [
      "\n",
      " El carro es negro o es azul\n",
      "27\n"
     ]
    }
   ],
   "source": [
    "entrada = \"El carro es negro o es azul\"\n",
    "\n",
    "print(\"\\n\" ,entrada)\n",
    "print(len(entrada))\n"
   ]
  },
  {
   "cell_type": "code",
   "execution_count": 297,
   "metadata": {},
   "outputs": [],
   "source": [
    "from enum import Enum\n",
    "\n",
    "class TipoToken(Enum):\n",
    "    O = 1\n",
    "    Y = 2\n",
    "    S = 3\n",
    "    N = 4\n",
    "    E = 5\n",
    "    P = 6"
   ]
  },
  {
   "cell_type": "code",
   "execution_count": 298,
   "metadata": {},
   "outputs": [],
   "source": [
    "def analizador_lexico(frase : str) -> list:\n",
    "\n",
    "    tokens = frase.lower().split()  \n",
    "    lexemas = []\n",
    "    for token in tokens:\n",
    "        if token == 'o':\n",
    "                lexemas.append( TipoToken.O )\n",
    "        elif token == 'y':\n",
    "                lexemas.append(TipoToken.Y)\n",
    "        elif token == 'si':\n",
    "                lexemas.append(TipoToken.S)\n",
    "        elif token == 'entonces':\n",
    "                lexemas.append(TipoToken.E)\n",
    "        elif token == 'no':\n",
    "                lexemas.append(TipoToken.N)\n",
    "        else :\n",
    "            lexemas.append(TipoToken.P )\n",
    "    return lexemas\n"
   ]
  },
  {
   "cell_type": "markdown",
   "metadata": {},
   "source": [
    "## Analizador Sintactico"
   ]
  },
  {
   "cell_type": "markdown",
   "metadata": {},
   "source": []
  },
  {
   "cell_type": "code",
   "execution_count": 299,
   "metadata": {},
   "outputs": [],
   "source": [
    "class EstadosAnalizador(Enum):\n",
    "    INICIO = 1\n",
    "    PRECEDENTE = 2\n",
    "    ERROR1 = 3\n",
    "    NEGACION = 4\n",
    "    CONSECUENTE = 5\n",
    "    ATOMO = 6\n",
    "    DISYUNCION = 7\n",
    "    CONJUNCION = 8\n",
    "    ERROR2 = 9\n",
    "    FIN = 10"
   ]
  },
  {
   "cell_type": "code",
   "execution_count": 300,
   "metadata": {},
   "outputs": [],
   "source": [
    "def inicio(lexema_):\n",
    "    lexema = lexema_\n",
    "    if lexema == TipoToken.P:\n",
    "        return EstadosAnalizador.ATOMO\n",
    "    elif lexema == TipoToken.N:\n",
    "        return EstadosAnalizador.NEGACION\n",
    "    elif lexema == TipoToken.S:\n",
    "        return EstadosAnalizador.DISYUNCION\n",
    "    elif lexema == TipoToken.Y or TipoToken.O or TipoToken.E:\n",
    "        return EstadosAnalizador.ERROR1"
   ]
  },
  {
   "cell_type": "code",
   "execution_count": 301,
   "metadata": {},
   "outputs": [],
   "source": [
    "def atomo(lexema_):\n",
    "    lexema = lexema_\n",
    "    if lexema == TipoToken.P:\n",
    "        return EstadosAnalizador.ATOMO\n",
    "    elif lexema == TipoToken.N:\n",
    "        return EstadosAnalizador.NEGACION\n",
    "    elif lexema == TipoToken.S:\n",
    "        return EstadosAnalizador.DISYUNCION\n",
    "    elif lexema == TipoToken.Y:\n",
    "        return EstadosAnalizador.CONJUNCION\n",
    "    elif lexema == TipoToken.O:\n",
    "        return EstadosAnalizador.DISYUNCION\n",
    "    elif lexema == TipoToken.E:\n",
    "        return EstadosAnalizador.CONSECUENTE"
   ]
  },
  {
   "cell_type": "code",
   "execution_count": 302,
   "metadata": {},
   "outputs": [],
   "source": [
    "def precedente(lexema_):\n",
    "    lexema = lexema_\n",
    "    if lexema == TipoToken.P:\n",
    "        return EstadosAnalizador.ATOMO\n",
    "    elif lexema == TipoToken.N:\n",
    "        return EstadosAnalizador.NEGACION\n",
    "    elif lexema == TipoToken.Y or TipoToken.O or TipoToken.E or TipoToken.S:\n",
    "        return EstadosAnalizador.ERROR1"
   ]
  },
  {
   "cell_type": "code",
   "execution_count": 303,
   "metadata": {},
   "outputs": [],
   "source": [
    "def negacion(lexema_):\n",
    "    lexema = lexema_\n",
    "    if lexema == TipoToken.P:\n",
    "        return EstadosAnalizador.ATOMO\n",
    "    elif lexema == TipoToken.Y or TipoToken.O or TipoToken.E or TipoToken.S:\n",
    "        return EstadosAnalizador.ERROR2"
   ]
  },
  {
   "cell_type": "code",
   "execution_count": 304,
   "metadata": {},
   "outputs": [],
   "source": [
    "def consecuente(lexema_):\n",
    "    lexema = lexema_\n",
    "    if lexema == TipoToken.P:\n",
    "        return EstadosAnalizador.ATOMO\n",
    "    elif lexema == TipoToken.N:\n",
    "        return EstadosAnalizador.NEGACION\n",
    "    elif lexema == TipoToken.Y or TipoToken.O or TipoToken.E or TipoToken.S:\n",
    "        return EstadosAnalizador.ERROR1"
   ]
  },
  {
   "cell_type": "code",
   "execution_count": 305,
   "metadata": {},
   "outputs": [],
   "source": [
    "def conjuncion(lexema_):\n",
    "    lexema = lexema_\n",
    "    if lexema == TipoToken.P:\n",
    "        return EstadosAnalizador.ATOMO\n",
    "    elif lexema == TipoToken.N:\n",
    "        return EstadosAnalizador.NEGACION\n",
    "    elif lexema == TipoToken.Y or TipoToken.O or TipoToken.E or TipoToken.S:\n",
    "        return EstadosAnalizador.ERROR1"
   ]
  },
  {
   "cell_type": "code",
   "execution_count": 306,
   "metadata": {},
   "outputs": [],
   "source": [
    "def disyuncion(lexema_):\n",
    "    lexema = lexema_\n",
    "    if lexema == TipoToken.P:\n",
    "        return EstadosAnalizador.ATOMO\n",
    "    elif lexema == TipoToken.N:\n",
    "        return EstadosAnalizador.NEGACION\n",
    "    elif lexema == TipoToken.Y or TipoToken.O or TipoToken.E or TipoToken.S:\n",
    "        return EstadosAnalizador.ERROR1"
   ]
  },
  {
   "cell_type": "code",
   "execution_count": 307,
   "metadata": {},
   "outputs": [],
   "source": [
    "def error1(lexema_):\n",
    "    lexema = lexema_\n",
    "    return EstadosAnalizador.ERROR1 "
   ]
  },
  {
   "cell_type": "code",
   "execution_count": 308,
   "metadata": {},
   "outputs": [],
   "source": [
    "def error2(lexema_):\n",
    "    lexema = lexema_\n",
    "    return EstadosAnalizador.ERROR2 "
   ]
  },
  {
   "cell_type": "code",
   "execution_count": 309,
   "metadata": {},
   "outputs": [],
   "source": [
    "def analizador_sintactico(lexemas_ : list):\n",
    "\n",
    "    EstadoActual = EstadosAnalizador.INICIO\n",
    "    \n",
    "    for lexema in lexemas_:\n",
    "        if EstadoActual == EstadosAnalizador.INICIO:\n",
    "            EstadoActual = inicio(lexema)\n",
    "        elif EstadoActual == EstadosAnalizador.ATOMO:\n",
    "            EstadoActual = atomo(lexema)\n",
    "        elif EstadoActual == EstadosAnalizador.CONJUNCION:\n",
    "            EstadoActual = conjuncion(lexema)\n",
    "        elif EstadoActual == EstadosAnalizador.CONSECUENTE:\n",
    "            EstadoActual = consecuente(lexema)\n",
    "        elif EstadoActual == EstadosAnalizador.DISYUNCION:\n",
    "            EstadoActual = disyuncion(lexema)\n",
    "        elif EstadoActual == EstadosAnalizador.ERROR1:\n",
    "            EstadoActual = error1(lexema)\n",
    "        elif EstadoActual == EstadosAnalizador.ERROR2:\n",
    "            EstadoActual =  error2(lexema)\n",
    "        elif EstadoActual == EstadosAnalizador.NEGACION:\n",
    "            EstadoActual = negacion(lexema)\n",
    "        elif EstadoActual == EstadosAnalizador.PRECEDENTE:\n",
    "            EstadoActual = precedente(lexema)\n",
    "    if EstadoActual == EstadosAnalizador.ATOMO:\n",
    "        print(\"Frase correcta\")\n",
    "    else: \n",
    "        print(\"Frase incorrecta\")    \n",
    "    return EstadoActual"
   ]
  },
  {
   "cell_type": "code",
   "execution_count": 310,
   "metadata": {},
   "outputs": [
    {
     "name": "stdout",
     "output_type": "stream",
     "text": [
      "El carro es negro o es de dia\n",
      "Frase correcta\n",
      "EstadosAnalizador.ATOMO\n",
      "Si si es de dia no es de noche\n",
      "Frase incorrecta\n",
      "EstadosAnalizador.ERROR1\n"
     ]
    }
   ],
   "source": [
    "frases = []\n",
    "frases.append(\"El carro es negro o es de dia\")\n",
    "frases.append(\"Si si es de dia no es de noche\")\n",
    "\n",
    "for frase in frases:\n",
    "    print(frase)\n",
    "    print(analizador_sintactico(analizador_lexico(frase)))"
   ]
  },
  {
   "cell_type": "code",
   "execution_count": null,
   "metadata": {},
   "outputs": [],
   "source": []
  }
 ],
 "metadata": {
  "kernelspec": {
   "display_name": ".venv",
   "language": "python",
   "name": "python3"
  },
  "language_info": {
   "codemirror_mode": {
    "name": "ipython",
    "version": 3
   },
   "file_extension": ".py",
   "mimetype": "text/x-python",
   "name": "python",
   "nbconvert_exporter": "python",
   "pygments_lexer": "ipython3",
   "version": "3.11.5"
  }
 },
 "nbformat": 4,
 "nbformat_minor": 2
}
